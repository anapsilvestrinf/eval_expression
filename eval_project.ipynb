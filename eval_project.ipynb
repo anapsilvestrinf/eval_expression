{
 "cells": [
  {
   "cell_type": "markdown",
   "metadata": {
    "collapsed": true
   },
   "source": [
    "# Evaluating Numerical Expressions"
   ]
  },
  {
   "cell_type": "markdown",
   "metadata": {},
   "source": [
    "## Introduction"
   ]
  },
  {
   "cell_type": "markdown",
   "metadata": {},
   "source": [
    "In this project, we will create a function similar to the eval() built-in function in python, and our goal is to use the stack data structure to evaluate the numerical expressions. "
   ]
  },
  {
   "cell_type": "markdown",
   "metadata": {},
   "source": [
    "## Linked List and Stack implementation"
   ]
  },
  {
   "cell_type": "markdown",
   "metadata": {},
   "source": [
    "### Linked List"
   ]
  },
  {
   "cell_type": "markdown",
   "metadata": {},
   "source": [
    "LinkedNode class will be the base of the stack class implementation."
   ]
  },
  {
   "cell_type": "code",
   "execution_count": 1,
   "metadata": {},
   "outputs": [],
   "source": [
    "# Linked list node implementation\n",
    "class Node:\n",
    "    def __init__(self, data):\n",
    "        self.data = data\n",
    "        self.prev = None\n",
    "        self.next = None\n",
    "        \n",
    "# Linked List implementation\n",
    "class LinkedList:\n",
    "    def __init__(self):\n",
    "        self.head = None\n",
    "        self.tail = None\n",
    "        self.length = 0\n",
    "        \n",
    "    def append(self, data):\n",
    "        new_node = Node(data)\n",
    "        if self.length == 0:\n",
    "            self.head = self.tail = new_node\n",
    "        else:\n",
    "            self.tail.next = new_node\n",
    "            new_node.prev = self.tail\n",
    "            self.tail = new_node\n",
    "        self.length += 1\n",
    "        \n",
    "    def __iter__(self):\n",
    "        self._iter_node = self.head\n",
    "        return self\n",
    "    \n",
    "    def __next__(self):\n",
    "        if self.__iter_node is None:\n",
    "            raise StopIteration\n",
    "        ret = self._iter_node.data\n",
    "        self._iter_node = self._iter_node.next\n",
    "        return ret\n",
    "    \n",
    "    def prepend(self, data):\n",
    "        new_node = Node(data)\n",
    "        if self.length == 0:\n",
    "            self.head = self.tail = new_node\n",
    "        else:\n",
    "            self.head.prev = new_node\n",
    "            new_node.tail = self.head\n",
    "            self.head = new_node\n",
    "        self.length += 1\n",
    "        \n",
    "    def __len__(self):\n",
    "        return self.length\n",
    "    \n",
    "    def __str__(self):\n",
    "        return str([value for value in self])"
   ]
  },
  {
   "cell_type": "markdown",
   "metadata": {},
   "source": [
    "### Stack "
   ]
  },
  {
   "cell_type": "code",
   "execution_count": 2,
   "metadata": {},
   "outputs": [],
   "source": [
    "# Stack data structure based on LinkedList\n",
    "class Stack(LinkedList):\n",
    "    def push(self, data):\n",
    "        self.append(data)\n",
    "        \n",
    "    def peek(self):\n",
    "        return self.tail.data\n",
    "        \n",
    "    def pop(self):\n",
    "        ret = self.tail.data\n",
    "        if self.length == 1:\n",
    "            self.tail = self.head = None\n",
    "        else:\n",
    "            self.tail = self.tail.prev\n",
    "            self.tail.nex = None\n",
    "        self.length -= 1\n",
    "        return ret"
   ]
  },
  {
   "cell_type": "markdown",
   "metadata": {},
   "source": [
    "## Infix and Postfix Notation"
   ]
  },
  {
   "cell_type": "markdown",
   "metadata": {},
   "source": [
    "Infix position means the operators between the operands as we usually write 1 + 1. \n",
    "\n",
    "However, it is easier to evaluate an expression written in postfix notation for a computer. This notation means the operands appearance before the operator as in 1 1 +. \n",
    "\n",
    "Also, we can evaluate an expression in postfix notation using a stack by:\n",
    "* Reading the expression from left to right.\n",
    "* Pushing numbers to the top of the stack.\n",
    "* If we find an operator, we pop the top two elements and push the result of the operation."
   ]
  },
  {
   "cell_type": "markdown",
   "metadata": {},
   "source": [
    "To simplify the function we'll create, we will assume there are spaces between the elements, called tokens, of the string expression we want to evaluate."
   ]
  },
  {
   "cell_type": "code",
   "execution_count": 3,
   "metadata": {},
   "outputs": [],
   "source": [
    "# Transform the postfix expression string into a list os elements\n",
    "def tokenize(expression):\n",
    "    return expression.split()"
   ]
  },
  {
   "cell_type": "code",
   "execution_count": 4,
   "metadata": {
    "scrolled": true
   },
   "outputs": [
    {
     "data": {
      "text/plain": [
       "['12', '2', '4', '+', '/', '21', '*']"
      ]
     },
     "execution_count": 4,
     "metadata": {},
     "output_type": "execute_result"
    }
   ],
   "source": [
    "# Test tokenize\n",
    "expression = \"12 2 4 + / 21 *\"\n",
    "tokenize(expression)"
   ]
  },
  {
   "cell_type": "markdown",
   "metadata": {},
   "source": [
    "## Processing an Operator"
   ]
  },
  {
   "cell_type": "markdown",
   "metadata": {},
   "source": [
    "When we calculate the expression, we need to make sure that we operate the two numbers in the correct order since the element at the top of the stack is the second operand in the expression and the element that is second to the top is the first operand. "
   ]
  },
  {
   "cell_type": "code",
   "execution_count": 5,
   "metadata": {},
   "outputs": [],
   "source": [
    "def process_minus(stack):\n",
    "    second_element = stack.pop()\n",
    "    first_element = stack.pop()\n",
    "    stack.push(first_element - second_element)\n",
    "    \n",
    "def process_plus(stack):\n",
    "    second_element = stack.pop()\n",
    "    first_element = stack.pop()\n",
    "    stack.push(first_element + second_element)\n",
    "    \n",
    "def process_times(stack):\n",
    "    second_element = stack.pop()\n",
    "    first_element = stack.pop()\n",
    "    stack.push(first_element * second_element)\n",
    "\n",
    "def process_divide(stack):\n",
    "    second_element = stack.pop()\n",
    "    first_element = stack.pop()\n",
    "    stack.push(first_element / second_element)\n",
    "    \n",
    "def process_pow(stack):\n",
    "    second_element = stack.pop()\n",
    "    first_element = stack.pop()\n",
    "    stack.push(first_element ** second_element)"
   ]
  },
  {
   "cell_type": "markdown",
   "metadata": {},
   "source": [
    "## Evaluating Postfix Expressions"
   ]
  },
  {
   "cell_type": "markdown",
   "metadata": {},
   "source": [
    "Now we will implement an algorithm to evaluate an expression in postfix notation."
   ]
  },
  {
   "cell_type": "code",
   "execution_count": 6,
   "metadata": {},
   "outputs": [],
   "source": [
    "# Evaluate expression in postfix notation\n",
    "def evaluate_postfix(expression):\n",
    "    tokens = tokenize(expression)\n",
    "    stack = Stack()\n",
    "    \n",
    "    for token in tokens:\n",
    "        if token == '+':\n",
    "            process_plus(stack)\n",
    "        elif token == '-':\n",
    "            process_minus(stack)\n",
    "        elif token == '*':\n",
    "            process_times(stack)\n",
    "        elif token == '/':\n",
    "            process_divide(stack)\n",
    "        elif token == '**':\n",
    "            process_pow(stack)\n",
    "        else:\n",
    "            stack.push(float(token))\n",
    "    return stack.pop()"
   ]
  },
  {
   "cell_type": "code",
   "execution_count": 7,
   "metadata": {
    "scrolled": true
   },
   "outputs": [
    {
     "name": "stdout",
     "output_type": "stream",
     "text": [
      "-2.0\n",
      "8.0\n",
      "0.0\n",
      "2.0\n",
      "11.25\n",
      "45.0\n",
      "42.0\n",
      "4.0\n",
      "2.0\n"
     ]
    }
   ],
   "source": [
    "# Test evaluate_postfix() function\n",
    "expressions = [\n",
    "    \"4 6 -\",\n",
    "    \"4 1 2 9 3 / * + 5 - *\",\n",
    "    \"1 2 + 3 -\",\n",
    "    \"1 2 - 3 +\",\n",
    "    \"10 3 5 * 16 4 - / +\",\n",
    "    \"5 3 4 2 - ** *\",\n",
    "    \"12 2 4 + / 21 *\",\n",
    "    \"1 1 + 2 **\",\n",
    "    \"1 1 2 ** +\"\n",
    "]\n",
    "\n",
    "for expression in expressions:\n",
    "    print(evaluate_postfix(expression))"
   ]
  },
  {
   "cell_type": "markdown",
   "metadata": {},
   "source": [
    "## Operator Precedence in Infix Notation"
   ]
  },
  {
   "cell_type": "markdown",
   "metadata": {},
   "source": [
    "Just as before, we'll assume that the infix expression string contains spaces between any two tokens.\n",
    "\n",
    "To convert from infix to postfix, we'll implement the Shunting-yard algorithm using a stack. In this algorithm, we'll compare the precedence of operators."
   ]
  },
  {
   "cell_type": "code",
   "execution_count": 8,
   "metadata": {},
   "outputs": [
    {
     "data": {
      "text/plain": [
       "False"
      ]
     },
     "execution_count": 8,
     "metadata": {},
     "output_type": "execute_result"
    }
   ],
   "source": [
    "# Operators precedence\n",
    "precedence = {\n",
    "    '+': 1,\n",
    "    '-': 1,\n",
    "    '*': 2,\n",
    "    '/': 2,\n",
    "    '**':3,\n",
    "}\n",
    "\n",
    "# Test precedence\n",
    "precedence['/'] < precedence['-']"
   ]
  },
  {
   "cell_type": "markdown",
   "metadata": {},
   "source": [
    "## From Infix to Postfix"
   ]
  },
  {
   "cell_type": "markdown",
   "metadata": {},
   "source": [
    "We'll implement a function that, given a string with an expression in infix notation, outputs a string with the expression in postfix notation."
   ]
  },
  {
   "cell_type": "markdown",
   "metadata": {},
   "source": [
    "In our function, we need to do different things with different tokens:\n",
    "* Opening parenthesis: Push the token into the stack for later.\n",
    "* Closing parenthesis: Pop the top element and append it to the postfix token list while don't pop the opening parenthesis. After, we pop the opening parentheses out of the stack.\n",
    "* Operators '+', '-', '\\*', '/', '\\**': While the top of the stack is also an operator with a precedence greater than or equal to this operator, pop the top element, and append it to the postfix token list. Push the current operator to the top of the stack\n",
    "* Numbers: Append it to the postfix list.\n",
    "\n",
    "Lastly, the stack may not be empty. In this case we pop all remaining operators into the postfix list."
   ]
  },
  {
   "cell_type": "code",
   "execution_count": 9,
   "metadata": {},
   "outputs": [],
   "source": [
    "# Process opening parenthesis\n",
    "def process_opening_parenthesis(stack):\n",
    "    stack.push('(')"
   ]
  },
  {
   "cell_type": "code",
   "execution_count": 10,
   "metadata": {},
   "outputs": [],
   "source": [
    "# Process closing parenthesis\n",
    "def process_closing_parenthesis(stack, postfix):\n",
    "    while stack.peek() != '(':\n",
    "        postfix.append(stack.pop())\n",
    "    stack.pop() # Pop '('"
   ]
  },
  {
   "cell_type": "code",
   "execution_count": 11,
   "metadata": {},
   "outputs": [],
   "source": [
    "# Handle operators\n",
    "def process_operator(stack, postfix, operator):\n",
    "    while len(stack) > 0 and stack.peek() in precedence and precedence[stack.peek()] >= precedence[operator]:\n",
    "        postfix.append(stack.pop())\n",
    "    \n",
    "    stack.push(operator)"
   ]
  },
  {
   "cell_type": "code",
   "execution_count": 12,
   "metadata": {},
   "outputs": [],
   "source": [
    "# Handle numbers\n",
    "def process_number(postfix, number):\n",
    "    postfix.append(number)"
   ]
  },
  {
   "cell_type": "markdown",
   "metadata": {},
   "source": [
    "## Implementing the Shunting-yard Algorithm"
   ]
  },
  {
   "cell_type": "markdown",
   "metadata": {},
   "source": [
    "We will gather all the pieces to convert an expression from infix to postfix notation."
   ]
  },
  {
   "cell_type": "code",
   "execution_count": 13,
   "metadata": {},
   "outputs": [],
   "source": [
    "# Convert infix expression in postfix\n",
    "def infix_to_postfix(expression):\n",
    "    tokens = tokenize(expression)\n",
    "    stack = Stack()\n",
    "    postfix = []\n",
    "    for token in tokens:\n",
    "        if token == '(':\n",
    "            process_opening_parenthesis(stack)\n",
    "        elif token == ')':\n",
    "            process_closing_parenthesis(stack, postfix)\n",
    "        elif token in ['+', '*', '-', '/', '**']:\n",
    "            process_operator(stack, postfix, token)\n",
    "        else:\n",
    "            process_number(postfix, token)\n",
    "            \n",
    "    while len(stack) != 0:\n",
    "        postfix.append(stack.pop())\n",
    "        \n",
    "    return ' '.join(postfix)"
   ]
  },
  {
   "cell_type": "markdown",
   "metadata": {},
   "source": [
    "## Conclusion: Evaluating Infix Expressions"
   ]
  },
  {
   "cell_type": "markdown",
   "metadata": {},
   "source": [
    "To conclude, we'll combine the two functions: infix to postfix notation and evaluation of an expression in postfix notation."
   ]
  },
  {
   "cell_type": "code",
   "execution_count": 14,
   "metadata": {},
   "outputs": [],
   "source": [
    "# Combine functions infix to postfix and evaluation of postfix expression\n",
    "def evaluate(expression):\n",
    "    postfix_expression = infix_to_postfix(expression)\n",
    "    return evaluate_postfix(postfix_expression)"
   ]
  },
  {
   "cell_type": "code",
   "execution_count": 15,
   "metadata": {},
   "outputs": [
    {
     "name": "stdout",
     "output_type": "stream",
     "text": [
      "2.0\n",
      "0.0\n",
      "8.0\n",
      "11.25\n",
      "256.0\n",
      "65536.0\n",
      "0.5\n",
      "9.0\n",
      "1.0\n"
     ]
    }
   ],
   "source": [
    "# Test evaluate function\n",
    "expressions = [\n",
    "    \"1 + 1\",\n",
    "    \"1 * ( 2 - ( 1 + 1 ) )\",\n",
    "    \"4 * ( 1 + 2 * ( 9 / 3 ) - 5 )\",\n",
    "    \"10 + 3 * 5 / ( 16 - 4 * 1 )\",\n",
    "    \"2 * 2 * 2 * 2 * 2 * 2 * 2 * 2\",\n",
    "    \"2 ** 2 ** 2 ** 2 ** 2\",\n",
    "    \"( 1 - 2 ) / ( 3 - 5 )\",\n",
    "    \"9 / 8 * 8\",\n",
    "    \"64 / ( 8 * 8 )\",\n",
    "]\n",
    "\n",
    "for expression in expressions:\n",
    "    print(evaluate(expression))"
   ]
  }
 ],
 "metadata": {
  "kernelspec": {
   "display_name": "Python 3",
   "language": "python",
   "name": "python3"
  },
  "language_info": {
   "codemirror_mode": {
    "name": "ipython",
    "version": 3
   },
   "file_extension": ".py",
   "mimetype": "text/x-python",
   "name": "python",
   "nbconvert_exporter": "python",
   "pygments_lexer": "ipython3",
   "version": "3.8.2"
  }
 },
 "nbformat": 4,
 "nbformat_minor": 1
}
